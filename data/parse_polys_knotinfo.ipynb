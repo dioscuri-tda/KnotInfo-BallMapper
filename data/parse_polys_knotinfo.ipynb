{
 "cells": [
  {
   "cell_type": "markdown",
   "metadata": {},
   "source": [
    "# Parse KnotInfo polynomials\n",
    "notebook to extract vectors of coefficients from data downloaded from https://knotinfo.math.indiana.edu/"
   ]
  },
  {
   "cell_type": "code",
   "execution_count": null,
   "metadata": {},
   "outputs": [],
   "source": [
    "import numpy as np\n",
    "import pandas as pd\n",
    "import cypari2\n",
    "\n",
    "from tqdm.auto import tqdm"
   ]
  },
  {
   "cell_type": "markdown",
   "metadata": {},
   "source": [
    "## utils"
   ]
  },
  {
   "cell_type": "code",
   "execution_count": null,
   "metadata": {},
   "outputs": [],
   "source": [
    "pari = cypari2.Pari()"
   ]
  },
  {
   "cell_type": "code",
   "execution_count": null,
   "metadata": {},
   "outputs": [],
   "source": [
    "def min_max_degree(list_of_poly, variables):\n",
    "    min_max = {}\n",
    "    for v in variables:\n",
    "        min_max[v] = {}\n",
    "        min_max[v][\"max\"] = -1000\n",
    "        min_max[v][\"min\"] = +1000\n",
    "\n",
    "    for poly in tqdm(list_of_poly):\n",
    "\n",
    "        pari_poly = pari(poly)\n",
    "\n",
    "        for v in variables:\n",
    "            # max degree\n",
    "            degree = pari.poldegree(pari_poly, v)\n",
    "            if degree > min_max[v][\"max\"]:\n",
    "                min_max[v][\"max\"] = degree\n",
    "\n",
    "            # min degree\n",
    "            # convert v to 1/v and get the max degree\n",
    "            pari_poly = pari.subst(pari_poly, v, \"1/{}\".format(v))\n",
    "            neg_degree = -1 * pari.poldegree(pari_poly, v)\n",
    "            if neg_degree < min_max[v][\"min\"]:\n",
    "                min_max[v][\"min\"] = neg_degree\n",
    "\n",
    "    return min_max\n",
    "\n",
    "\n",
    "def create_coeff_vector(poly, min_t, max_t, symbol=\"t\"):\n",
    "    off_t = -min_t\n",
    "\n",
    "    coeff = np.zeros(max_t - min_t + 1, dtype=int)\n",
    "\n",
    "    for idx_t in range(min_t, max_t + 1):\n",
    "        coeff[idx_t + off_t] = pari.polcoef(poly, idx_t, symbol)\n",
    "\n",
    "    return coeff\n",
    "\n",
    "\n",
    "def create_colnames(min_t, max_t, symbol=\"t\"):\n",
    "    colnames = []\n",
    "    for idx_t in range(min_t, max_t + 1):\n",
    "        colnames.append(symbol + str(idx_t))\n",
    "    return colnames\n",
    "\n",
    "\n",
    "def create_coeff_vector_2d(poly, min_1, max_1, min_2, max_2, symbol_1, symbol_2):\n",
    "    off_q = -min_1\n",
    "    off_t = -min_2\n",
    "\n",
    "    coeff = np.zeros((max_1 - min_1 + 1, max_2 - min_2 + 1), dtype=int)\n",
    "\n",
    "    for idx_1 in range(min_1, max_1 + 1):\n",
    "        for idx_2 in range(min_2, max_2 + 1):\n",
    "            coeff[idx_1 + off_q, idx_2 + off_t] = pari.polcoef(\n",
    "                pari.polcoef(poly, idx_2, symbol_2), idx_1, symbol_1\n",
    "            )\n",
    "\n",
    "    return coeff.reshape(-1)\n",
    "\n",
    "\n",
    "def create_colnames_2d(min_1, max_1, min_2, max_2, symbol_1, symbol_2):\n",
    "    colnames = []\n",
    "    for idx_1 in range(min_1, max_1 + 1):\n",
    "        for idx_2 in range(min_2, max_2 + 1):\n",
    "            colnames.append(symbol_1 + str(idx_1) + \"_\" + symbol_2 + str(idx_2))\n",
    "    return colnames\n",
    "\n",
    "\n",
    "def create_coeff_vector_3d(\n",
    "    poly, min_1, max_1, min_2, max_2, min_3, max_3, symbol_1, symbol_2, symbol_3\n",
    "):\n",
    "    off_1 = -min_1\n",
    "    off_2 = -min_2\n",
    "    off_3 = -min_3\n",
    "\n",
    "    coeff = np.zeros(\n",
    "        (max_1 - min_1 + 1, max_2 - min_2 + 1, max_3 - min_3 + 1), dtype=int\n",
    "    )\n",
    "\n",
    "    for idx_1 in range(min_1, max_1 + 1):\n",
    "        for idx_2 in range(min_2, max_2 + 1):\n",
    "            for idx_3 in range(min_3, max_3 + 1):\n",
    "                coeff[idx_1 + off_1, idx_2 + off_2, idx_3 + off_3] = pari.polcoef(\n",
    "                    pari.polcoef(pari.polcoef(poly, idx_3, symbol_3), idx_2, symbol_2),\n",
    "                    idx_1,\n",
    "                    symbol_1,\n",
    "                )\n",
    "\n",
    "    return coeff.reshape(-1)\n",
    "\n",
    "\n",
    "def create_colnames_3d(\n",
    "    min_1, max_1, min_2, max_2, min_3, max_3, symbol_1, symbol_2, symbol_3\n",
    "):\n",
    "    colnames = []\n",
    "    for idx_1 in range(min_1, max_1 + 1):\n",
    "        for idx_2 in range(min_2, max_2 + 1):\n",
    "            for idx_3 in range(min_3, max_3 + 1):\n",
    "                colnames.append(\n",
    "                    symbol_1\n",
    "                    + str(idx_1)\n",
    "                    + \"_\"\n",
    "                    + symbol_2\n",
    "                    + str(idx_2)\n",
    "                    + \"_\"\n",
    "                    + symbol_3\n",
    "                    + str(idx_3)\n",
    "                )\n",
    "    return colnames"
   ]
  },
  {
   "cell_type": "markdown",
   "metadata": {},
   "source": [
    "## load data"
   ]
  },
  {
   "cell_type": "code",
   "execution_count": null,
   "metadata": {},
   "outputs": [],
   "source": [
    "knotinfo_df = pd.read_csv(\"data/knotinfo_polys.csv\")\n",
    "knotinfo_df"
   ]
  },
  {
   "cell_type": "markdown",
   "metadata": {},
   "source": [
    "## Alexander"
   ]
  },
  {
   "cell_type": "code",
   "execution_count": null,
   "metadata": {},
   "outputs": [],
   "source": [
    "list_of_poly = [pari(p) for p in knotinfo_df.Alexander.tolist()]"
   ]
  },
  {
   "cell_type": "code",
   "execution_count": null,
   "metadata": {},
   "outputs": [],
   "source": [
    "min_max = min_max_degree(list_of_poly, variables=[\"t\"])\n",
    "print(min_max)\n",
    "min_t = min_max[\"t\"][\"min\"]\n",
    "max_t = min_max[\"t\"][\"max\"]"
   ]
  },
  {
   "cell_type": "code",
   "execution_count": null,
   "metadata": {},
   "outputs": [],
   "source": [
    "p_coeff = [create_coeff_vector(p, min_t, max_t) for p in tqdm(list_of_poly)]"
   ]
  },
  {
   "cell_type": "code",
   "execution_count": null,
   "metadata": {},
   "outputs": [],
   "source": [
    "coeff_names = create_colnames(min_t, max_t)\n",
    "\n",
    "coeff_df = pd.DataFrame(data=p_coeff, columns=coeff_names)\n",
    "\n",
    "coeff_df[\"knot_id\"] = knotinfo_df.Name\n",
    "\n",
    "coeff_df = coeff_df[\n",
    "    [\n",
    "        \"knot_id\",\n",
    "    ]\n",
    "    + coeff_names\n",
    "]"
   ]
  },
  {
   "cell_type": "code",
   "execution_count": null,
   "metadata": {},
   "outputs": [],
   "source": [
    "coeff_df"
   ]
  },
  {
   "cell_type": "code",
   "execution_count": null,
   "metadata": {},
   "outputs": [],
   "source": [
    "coeff_df.to_csv(\"data/alex_knotinfo.csv\", index=False)"
   ]
  },
  {
   "cell_type": "markdown",
   "metadata": {},
   "source": [
    "## Jones"
   ]
  },
  {
   "cell_type": "code",
   "execution_count": null,
   "metadata": {},
   "outputs": [],
   "source": [
    "list_of_poly = [pari(p) for p in knotinfo_df.Jones.tolist()]\n",
    "\n",
    "min_max = min_max_degree(list_of_poly, variables=[\"t\"])\n",
    "print(min_max)\n",
    "min_t = min_max[\"t\"][\"min\"]\n",
    "max_t = min_max[\"t\"][\"max\"]\n",
    "\n",
    "p_coeff = [create_coeff_vector(p, min_t, max_t) for p in tqdm(list_of_poly)]\n",
    "\n",
    "coeff_names = create_colnames(min_t, max_t)\n",
    "\n",
    "coeff_df = pd.DataFrame(data=p_coeff, columns=coeff_names)\n",
    "\n",
    "coeff_df[\"knot_id\"] = knotinfo_df.Name\n",
    "\n",
    "coeff_df = coeff_df[\n",
    "    [\n",
    "        \"knot_id\",\n",
    "    ]\n",
    "    + coeff_names\n",
    "]"
   ]
  },
  {
   "cell_type": "code",
   "execution_count": null,
   "metadata": {},
   "outputs": [],
   "source": [
    "coeff_df"
   ]
  },
  {
   "cell_type": "code",
   "execution_count": null,
   "metadata": {},
   "outputs": [],
   "source": [
    "coeff_df.to_csv(\"data/jones_knotinfo.csv\", index=False)"
   ]
  },
  {
   "cell_type": "markdown",
   "metadata": {},
   "source": [
    "## homflypt"
   ]
  },
  {
   "cell_type": "code",
   "execution_count": null,
   "metadata": {},
   "outputs": [],
   "source": [
    "homfly = [poly for poly in tqdm(knotinfo_df[\"HOMFLY\"].to_numpy())]\n",
    "homfly[0]"
   ]
  },
  {
   "cell_type": "code",
   "execution_count": null,
   "metadata": {},
   "outputs": [],
   "source": [
    "min_max = min_max_degree(homfly, variables=[\"v\", \"z\"])\n",
    "\n",
    "max_v = min_max[\"v\"][\"max\"]\n",
    "min_v = min_max[\"v\"][\"min\"]\n",
    "\n",
    "max_z = min_max[\"z\"][\"max\"]\n",
    "min_z = min_max[\"z\"][\"min\"]\n",
    "\n",
    "min_max"
   ]
  },
  {
   "cell_type": "code",
   "execution_count": null,
   "metadata": {},
   "outputs": [],
   "source": [
    "c_list = []\n",
    "\n",
    "for p in tqdm(homfly):\n",
    "    p_coeff = create_coeff_vector_2d(\n",
    "        pari(p), min_v, max_v, min_z, max_z, symbol_1=\"v\", symbol_2=\"z\"\n",
    "    )\n",
    "    c_list.append(p_coeff)"
   ]
  },
  {
   "cell_type": "code",
   "execution_count": null,
   "metadata": {},
   "outputs": [],
   "source": [
    "coeff_names = create_colnames_2d(min_v, max_v, min_z, max_z, symbol_1=\"v\", symbol_2=\"z\")\n",
    "\n",
    "coeff_df = pd.DataFrame(data=c_list, columns=coeff_names)\n",
    "# add info\n",
    "coeff_df[\"knot_id\"] = knotinfo_df.Name\n",
    "\n",
    "coeff_df = coeff_df[[\"knot_id\"] + coeff_names]\n",
    "coeff_df.head()"
   ]
  },
  {
   "cell_type": "code",
   "execution_count": null,
   "metadata": {},
   "outputs": [],
   "source": [
    "coeff_df.to_csv(\"data/homfly_knotinfo.csv\", index=False)"
   ]
  },
  {
   "cell_type": "code",
   "execution_count": null,
   "metadata": {},
   "outputs": [],
   "source": []
  },
  {
   "cell_type": "markdown",
   "metadata": {},
   "source": [
    "## HFK"
   ]
  },
  {
   "cell_type": "code",
   "execution_count": null,
   "metadata": {},
   "outputs": [],
   "source": [
    "## pari does not like tha string, lets' fix it\n",
    "pol = (\n",
    "    knotinfo_df[\"HFK Polyomial\"]\n",
    "    .to_numpy()[0]\n",
    "    .replace(\"  \", \"\")\n",
    "    .replace(\" + \", \"+\")\n",
    "    # .replace(\" \", \"*\")\n",
    "    .replace(\"a\", \"*a\")\n",
    "    .replace(\"m\", \"*m\")\n",
    ")\n",
    "pol"
   ]
  },
  {
   "cell_type": "code",
   "execution_count": null,
   "metadata": {},
   "outputs": [],
   "source": [
    "pari(pol)"
   ]
  },
  {
   "cell_type": "code",
   "execution_count": null,
   "metadata": {},
   "outputs": [],
   "source": [
    "hfk = [\n",
    "    poly.replace(\"  \", \"\").replace(\" + \", \"+\").replace(\"a\", \"*a\").replace(\"m\", \"*m\")\n",
    "    for poly in tqdm(knotinfo_df[\"HFK Polyomial\"].to_numpy())\n",
    "]\n",
    "hfk[0]"
   ]
  },
  {
   "cell_type": "code",
   "execution_count": null,
   "metadata": {},
   "outputs": [],
   "source": [
    "min_max = min_max_degree(hfk, variables=[\"a\", \"m\"])\n",
    "min_max"
   ]
  },
  {
   "cell_type": "code",
   "execution_count": null,
   "metadata": {},
   "outputs": [],
   "source": [
    "max_a = min_max[\"a\"][\"max\"]\n",
    "min_a = min_max[\"a\"][\"min\"]\n",
    "\n",
    "max_m = min_max[\"m\"][\"max\"]\n",
    "min_m = min_max[\"m\"][\"min\"]\n",
    "\n",
    "\n",
    "print(\n",
    "    \"a\",\n",
    "    min_a,\n",
    "    max_a,\n",
    ")\n",
    "print(\n",
    "    \"m\",\n",
    "    min_m,\n",
    "    max_m,\n",
    ")"
   ]
  },
  {
   "cell_type": "code",
   "execution_count": null,
   "metadata": {},
   "outputs": [],
   "source": [
    "c_list = []\n",
    "\n",
    "for p in tqdm(hfk):\n",
    "    p_coeff = create_coeff_vector_2d(\n",
    "        pari(p), min_a, max_a, min_m, max_m, symbol_1=\"a\", symbol_2=\"m\"\n",
    "    )\n",
    "    c_list.append(p_coeff)"
   ]
  },
  {
   "cell_type": "code",
   "execution_count": null,
   "metadata": {},
   "outputs": [],
   "source": [
    "coeff_names = create_colnames_2d(min_a, max_a, min_m, max_m, symbol_1=\"a\", symbol_2=\"m\")\n",
    "\n",
    "coeff_df = pd.DataFrame(data=c_list, columns=coeff_names)\n",
    "# add info\n",
    "coeff_df[\"knot_id\"] = knotinfo_df.Name\n",
    "\n",
    "coeff_df = coeff_df[[\"knot_id\"] + coeff_names]\n",
    "coeff_df.head()"
   ]
  },
  {
   "cell_type": "code",
   "execution_count": null,
   "metadata": {},
   "outputs": [],
   "source": [
    "coeff_df.to_csv(\"data/HFK_knotinfo.csv\", index=False)"
   ]
  },
  {
   "cell_type": "markdown",
   "metadata": {},
   "source": [
    "## KH Odd Red Z Poly"
   ]
  },
  {
   "cell_type": "code",
   "execution_count": null,
   "metadata": {},
   "outputs": [],
   "source": [
    "## pari does not like tha string, lets' fix it\n",
    "pol = (\n",
    "    knotinfo_df[\"KH Odd Red Z Poly\"]\n",
    "    .to_numpy()[0]\n",
    "    .replace(\"  \", \"\")\n",
    "    .replace(\" + \", \"+\")\n",
    "    .replace(\" \", \"*\")\n",
    ")\n",
    "pol"
   ]
  },
  {
   "cell_type": "code",
   "execution_count": null,
   "metadata": {},
   "outputs": [],
   "source": [
    "pari(pol)"
   ]
  },
  {
   "cell_type": "code",
   "execution_count": null,
   "metadata": {},
   "outputs": [],
   "source": [
    "khov = [\n",
    "    poly.replace(\"  \", \"\").replace(\" + \", \"+\").replace(\" \", \"*\")\n",
    "    for poly in tqdm(knotinfo_df[\"KH Odd Red Z Poly\"].to_numpy())\n",
    "]\n",
    "khov[0]"
   ]
  },
  {
   "cell_type": "code",
   "execution_count": null,
   "metadata": {},
   "outputs": [],
   "source": [
    "min_max = min_max_degree(khov, variables=[\"q\", \"t\", \"T\"])\n",
    "min_max"
   ]
  },
  {
   "cell_type": "code",
   "execution_count": null,
   "metadata": {},
   "outputs": [],
   "source": [
    "max_q = min_max[\"q\"][\"max\"]\n",
    "min_q = min_max[\"q\"][\"min\"]\n",
    "\n",
    "max_t = min_max[\"t\"][\"max\"]\n",
    "min_t = min_max[\"t\"][\"min\"]\n",
    "\n",
    "max_T = min_max[\"T\"][\"max\"]\n",
    "min_T = min_max[\"T\"][\"min\"]"
   ]
  },
  {
   "cell_type": "code",
   "execution_count": null,
   "metadata": {},
   "outputs": [],
   "source": [
    "c_list = []\n",
    "\n",
    "for p in tqdm(khov):\n",
    "    p_coeff = create_coeff_vector_3d(\n",
    "        pari(p),\n",
    "        min_q,\n",
    "        max_q,\n",
    "        min_t,\n",
    "        max_t,\n",
    "        min_T,\n",
    "        max_T,\n",
    "        symbol_1=\"q\",\n",
    "        symbol_2=\"t\",\n",
    "        symbol_3=\"T\",\n",
    "    )\n",
    "    c_list.append(p_coeff)"
   ]
  },
  {
   "cell_type": "code",
   "execution_count": null,
   "metadata": {},
   "outputs": [],
   "source": [
    "pari(p)"
   ]
  },
  {
   "cell_type": "code",
   "execution_count": null,
   "metadata": {},
   "outputs": [],
   "source": [
    "coeff_names = create_colnames_3d(\n",
    "    min_q,\n",
    "    max_q,\n",
    "    min_t,\n",
    "    max_t,\n",
    "    min_T,\n",
    "    max_T,\n",
    "    symbol_1=\"q\",\n",
    "    symbol_2=\"t\",\n",
    "    symbol_3=\"T\",\n",
    ")\n",
    "\n",
    "coeff_df = pd.DataFrame(data=c_list, columns=coeff_names)\n",
    "# add info\n",
    "coeff_df[\"knot_id\"] = knotinfo_df.Name\n",
    "\n",
    "coeff_df = coeff_df[[\"knot_id\"] + coeff_names]\n",
    "coeff_df.head()"
   ]
  },
  {
   "cell_type": "code",
   "execution_count": null,
   "metadata": {},
   "outputs": [],
   "source": [
    "coeff_df.to_csv(\"data/khovanov_knotinfo.csv\", index=False)"
   ]
  },
  {
   "cell_type": "code",
   "execution_count": null,
   "metadata": {},
   "outputs": [],
   "source": []
  }
 ],
 "metadata": {
  "kernelspec": {
   "display_name": "knots",
   "language": "python",
   "name": "python3"
  },
  "language_info": {
   "codemirror_mode": {
    "name": "ipython",
    "version": 3
   },
   "file_extension": ".py",
   "mimetype": "text/x-python",
   "name": "python",
   "nbconvert_exporter": "python",
   "pygments_lexer": "ipython3",
   "version": "3.12.3"
  },
  "orig_nbformat": 4
 },
 "nbformat": 4,
 "nbformat_minor": 2
}
